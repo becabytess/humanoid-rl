{
 "cells": [
  {
   "cell_type": "code",
   "execution_count": null,
   "id": "0f29adf7",
   "metadata": {},
   "outputs": [],
   "source": [
    "import gymnasium as gym\n",
    "import torch.nn as nn \n",
    "import torch\n",
    "\n",
    "env = gym.make(\"Humanoid-v5\", render_mode=\"human\")\n",
    "\n",
    "\n",
    "obs, info = env.reset(seed=0)\n",
    "obs = torch.tensor(obs,dtype=torch.float32)\n",
    "input_dim = 348\n",
    "output_dim = 17\n",
    "\n",
    "\n",
    "class PolicyNetwork(nn.Module):\n",
    "    def __init__(self,input_dim,output_dim):\n",
    "        super(PolicyNetwork, self).__init__()\n",
    "        self.model = nn.Sequential(\n",
    "            nn.Linear(input_dim, 512),\n",
    "            nn.ReLU(),\n",
    "            nn.Linear(512, 512),\n",
    "            nn.ReLU(),\n",
    "            nn.Linear(512, output_dim),\n",
    "            \n",
    "        )\n",
    "    def forward(self, x):\n",
    "        return self.model(x)\n",
    "    \n",
    "    \n",
    "       \n",
    "policy = PolicyNetwork(input_dim, output_dim)\n",
    "\n",
    "for _ in range(1000):\n",
    "\n",
    "    action =policy(obs).detach().numpy()                         \n",
    "    obs, reward, terminated, truncated, info = env.step(action) \n",
    "    obs = torch.tensor(obs,dtype=torch.float32) \n",
    "    env.render()                                              \n",
    "\n",
    "    \n",
    "\n",
    "env.close()\n"
   ]
  },
  {
   "cell_type": "code",
   "execution_count": null,
   "id": "326e9b68",
   "metadata": {},
   "outputs": [
    {
     "name": "stdout",
     "output_type": "stream",
     "text": [
      "^C\n",
      "Note: you may need to restart the kernel to use updated packages.\n"
     ]
    }
   ],
   "source": []
  },
  {
   "cell_type": "code",
   "execution_count": null,
   "id": "72c3772c",
   "metadata": {},
   "outputs": [],
   "source": []
  }
 ],
 "metadata": {
  "kernelspec": {
   "display_name": "Python 3",
   "language": "python",
   "name": "python3"
  },
  "language_info": {
   "codemirror_mode": {
    "name": "ipython",
    "version": 3
   },
   "file_extension": ".py",
   "mimetype": "text/x-python",
   "name": "python",
   "nbconvert_exporter": "python",
   "pygments_lexer": "ipython3",
   "version": "3.11.7"
  }
 },
 "nbformat": 4,
 "nbformat_minor": 5
}
