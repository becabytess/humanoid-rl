{
 "cells": [
  {
   "cell_type": "code",
   "execution_count": 11,
   "id": "cb3facf3",
   "metadata": {},
   "outputs": [],
   "source": [
    "import torch.nn as nn \n",
    "import torch \n",
    "\n",
    "class Model(nn.Module):\n",
    "    def __init__(self):\n",
    "        super().__init__()\n",
    "        self.core = nn.Sequential(\n",
    "            nn.Linear(4,256),\n",
    "            nn.ReLU(),\n",
    "            nn.Linear(256,256),\n",
    "            nn.ReLU(),\n",
    "            nn.Linear(256,128),\n",
    "            nn.ReLU(),\n",
    "            nn.Linear(128,128),\n",
    "            nn.ReLU(),\n",
    "            nn.Linear(128,2)\n",
    "        )\n",
    "    def forward(self,x):\n",
    "        return self.core(x)\n",
    "\n",
    "\n",
    "policy = Model()\n",
    "value = Model()\n",
    "\n",
    "\n"
   ]
  },
  {
   "cell_type": "code",
   "execution_count": 12,
   "id": "711bde48",
   "metadata": {},
   "outputs": [],
   "source": [
    "import gymnasium as gym \n",
    "\n",
    "env = gym.make(\"CartPole-v1\")\n",
    "obs, info = env.reset(seed=42)\n",
    "obs = torch.tensor(obs)"
   ]
  },
  {
   "cell_type": "code",
   "execution_count": null,
   "id": "6464bdbf",
   "metadata": {},
   "outputs": [
    {
     "ename": "TypeError",
     "evalue": "multinomial(): argument 'num_samples' (position 2) must be int, not Tensor",
     "output_type": "error",
     "traceback": [
      "\u001b[31m---------------------------------------------------------------------------\u001b[39m",
      "\u001b[31mTypeError\u001b[39m                                 Traceback (most recent call last)",
      "\u001b[36mCell\u001b[39m\u001b[36m \u001b[39m\u001b[32mIn[25]\u001b[39m\u001b[32m, line 12\u001b[39m\n\u001b[32m     10\u001b[39m logits = policy(obs)\n\u001b[32m     11\u001b[39m probs = torch.softmax(logits,dim=-\u001b[32m1\u001b[39m)\n\u001b[32m---> \u001b[39m\u001b[32m12\u001b[39m action = \u001b[43mtorch\u001b[49m\u001b[43m.\u001b[49m\u001b[43mmultinomial\u001b[49m\u001b[43m(\u001b[49m\u001b[43mprobs\u001b[49m\u001b[43m,\u001b[49m\u001b[43m \u001b[49m\u001b[43mprobs\u001b[49m\u001b[43m)\u001b[49m\n\u001b[32m     13\u001b[39m \u001b[38;5;28;01mbreak\u001b[39;00m\n",
      "\u001b[31mTypeError\u001b[39m: multinomial(): argument 'num_samples' (position 2) must be int, not Tensor"
     ]
    }
   ],
   "source": [
    "def is_terminal(observation):\n",
    "    x,v,theta , omega = observation \n",
    "    x_terminal = x <= -4.8 or x>=4.8\n",
    "    theta_terminal = theta <= -0.209*7.5 or theta >= 0.209*7.5\n",
    "    return x_terminal or theta_terminal\n",
    "\n",
    "\n",
    "episodes = 100\n",
    "for episode in range(episodes):\n",
    "    logits = policy(obs)\n",
    "    probs = torch.softmax(logits,dim=-1)\n",
    "    action = torch.multinomial(probs, num_samples=1).item()\n",
    "    obs, reward, terminated, truncated , info = env.step(action)\n",
    "    obs = torch.tensor(obs)\n",
    "    \n",
    "\n",
    "    "
   ]
  },
  {
   "cell_type": "code",
   "execution_count": null,
   "id": "0414ed5d",
   "metadata": {},
   "outputs": [],
   "source": []
  }
 ],
 "metadata": {
  "kernelspec": {
   "display_name": "Python 3",
   "language": "python",
   "name": "python3"
  },
  "language_info": {
   "codemirror_mode": {
    "name": "ipython",
    "version": 3
   },
   "file_extension": ".py",
   "mimetype": "text/x-python",
   "name": "python",
   "nbconvert_exporter": "python",
   "pygments_lexer": "ipython3",
   "version": "3.11.7"
  }
 },
 "nbformat": 4,
 "nbformat_minor": 5
}
