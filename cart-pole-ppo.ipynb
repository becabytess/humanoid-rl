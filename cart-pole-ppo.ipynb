{
 "cells": [
  {
   "cell_type": "code",
   "execution_count": 1,
   "id": "cb3facf3",
   "metadata": {},
   "outputs": [],
   "source": [
    "import torch.nn as nn \n",
    "import torch \n",
    "\n",
    "class Policy(nn.Module):\n",
    "    def __init__(self):\n",
    "        super().__init__()\n",
    "        self.core = nn.Sequential(\n",
    "            nn.Linear(4,256),\n",
    "            nn.ReLU(),\n",
    "            nn.Linear(256,256),\n",
    "            nn.ReLU(),\n",
    "            nn.Linear(256,128),\n",
    "            nn.ReLU(),\n",
    "            nn.Linear(128,128),\n",
    "            nn.ReLU(),\n",
    "            nn.Linear(128,2)\n",
    "        )\n",
    "        \n",
    "    def forward(self,x):\n",
    "        return self.core(x)\n",
    "\n",
    "class Value(nn.Module):\n",
    "    def __init__(self):\n",
    "        super().__init__()\n",
    "        self.core = nn.Sequential(\n",
    "            nn.Linear(4,256),\n",
    "            nn.ReLU(),\n",
    "            nn.Linear(256,256),\n",
    "            nn.ReLU(),\n",
    "            nn.Linear(256,128),\n",
    "            nn.ReLU(),\n",
    "            nn.Linear(128,128),\n",
    "            nn.ReLU(),\n",
    "            nn.Linear(128,1)\n",
    "        )\n",
    "        \n",
    "    def forward(self,x):\n",
    "        return self.core(x)\n",
    "\n",
    "policyModel = Policy()\n",
    "valueModel = Value()"
   ]
  },
  {
   "cell_type": "code",
   "execution_count": 2,
   "id": "711bde48",
   "metadata": {},
   "outputs": [],
   "source": [
    "import gymnasium as gym \n",
    "\n",
    "env = gym.make(\"CartPole-v1\",render_mode='human')"
   ]
  },
  {
   "cell_type": "code",
   "execution_count": null,
   "id": "6464bdbf",
   "metadata": {},
   "outputs": [
    {
     "name": "stderr",
     "output_type": "stream",
     "text": [
      "c:\\Users\\beca\\AppData\\Local\\Programs\\Python\\Python311\\Lib\\site-packages\\gymnasium\\envs\\classic_control\\cartpole.py:214: UserWarning: \u001b[33mWARN: You are calling 'step()' even though this environment has already returned terminated = True. You should always call 'reset()' once you receive 'terminated = True' -- any further steps are undefined behavior.\u001b[0m\n",
      "  logger.warn(\n"
     ]
    },
    {
     "name": "stdout",
     "output_type": "stream",
     "text": [
      "episode:  1\n",
      "torch.Size([36, 1])\n",
      "tensor(21.7251, grad_fn=<MseLossBackward0>)\n"
     ]
    },
    {
     "name": "stderr",
     "output_type": "stream",
     "text": [
      "C:\\Users\\beca\\AppData\\Local\\Temp\\ipykernel_20620\\1344665949.py:46: UserWarning: Using a target size (torch.Size([35])) that is different to the input size (torch.Size([36, 1])). This will likely lead to incorrect results due to broadcasting. Please ensure they have the same size.\n",
      "  loss = valueLoss(reward_preds,discontinued_rewards)\n"
     ]
    }
   ],
   "source": [
    "def is_terminal(observation):\n",
    "    x,v,theta , omega = observation \n",
    "    x_terminal = x <= -4.8 or x>=4.8\n",
    "    theta_terminal = theta <= -0.209*7.5 or theta >= 0.209*7.5\n",
    "    return x_terminal or theta_terminal\n",
    "\n",
    "\n",
    "episodes = 1000\n",
    "observations = []\n",
    "rewards = []\n",
    "actions = []\n",
    "value_optimizer = torch.optim.Adam(valueModel.parameters(), lr=1e-3)\n",
    "valueLoss = torch.nn.functional.mse_loss\n",
    "gamma = 0.99\n",
    "for episode in range(episodes):\n",
    "    done = False\n",
    "    obs, info = env.reset(seed=42)\n",
    "    obs = torch.tensor(obs)\n",
    "    while not done:\n",
    "        observations.append(obs)\n",
    "        logits = policyModel(obs)\n",
    "        probs = torch.softmax(logits,dim=-1)\n",
    "        action = torch.multinomial(probs, num_samples=1).item()\n",
    "        actions.append(action)\n",
    "        obs, reward, terminated, truncated , info = env.step(action)\n",
    "        rewards.append(reward)\n",
    "        obs = torch.tensor(obs)\n",
    "        done = is_terminal(obs)\n",
    "    print('episode: ',episode + 1)\n",
    "    \n",
    "\n",
    "    discontinued_rewards = []\n",
    "    reward = 0 \n",
    "    observation_tensor = torch.stack(observations) \n",
    "    for i in range(-1,-len(rewards),-1):\n",
    "        reward = rewards[i] + gamma * reward\n",
    "        discontinued_rewards.append(reward)\n",
    "\n",
    "\n",
    "    discontinued_rewards.reverse()\n",
    "    discontinued_rewards = torch.tensor(discontinued_rewards) \n",
    "    \n",
    "    \n",
    "    reward_preds = valueModel(observation_tensor)\n",
    "    \n",
    "    loss = valueLoss(reward_preds,discontinued_rewards)\n",
    "    value_optimizer.zero_grad()\n",
    "    loss.backward()\n",
    "    value_optimizer.step()\n",
    "    \n",
    "\n",
    "\n",
    "\n",
    "    \n",
    "\n",
    "    "
   ]
  },
  {
   "cell_type": "code",
   "execution_count": null,
   "id": "0414ed5d",
   "metadata": {},
   "outputs": [],
   "source": []
  },
  {
   "cell_type": "code",
   "execution_count": null,
   "id": "7bf2b5e0",
   "metadata": {},
   "outputs": [],
   "source": []
  },
  {
   "cell_type": "code",
   "execution_count": null,
   "id": "8c806f64",
   "metadata": {},
   "outputs": [],
   "source": []
  }
 ],
 "metadata": {
  "kernelspec": {
   "display_name": "Python 3",
   "language": "python",
   "name": "python3"
  },
  "language_info": {
   "codemirror_mode": {
    "name": "ipython",
    "version": 3
   },
   "file_extension": ".py",
   "mimetype": "text/x-python",
   "name": "python",
   "nbconvert_exporter": "python",
   "pygments_lexer": "ipython3",
   "version": "3.11.7"
  }
 },
 "nbformat": 4,
 "nbformat_minor": 5
}
