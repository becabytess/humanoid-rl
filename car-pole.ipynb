{
 "cells": [
  {
   "cell_type": "code",
   "execution_count": null,
   "id": "2eb6fd5b",
   "metadata": {},
   "outputs": [],
   "source": []
  },
  {
   "cell_type": "code",
   "execution_count": null,
   "id": "bc2799d4",
   "metadata": {},
   "outputs": [
    {
     "ename": "SyntaxError",
     "evalue": "incomplete input (858066065.py, line 51)",
     "output_type": "error",
     "traceback": [
      "  \u001b[36mCell\u001b[39m\u001b[36m \u001b[39m\u001b[32mIn[4]\u001b[39m\u001b[32m, line 51\u001b[39m\n\u001b[31m    \u001b[39m\n    ^\n\u001b[31mSyntaxError\u001b[39m\u001b[31m:\u001b[39m incomplete input\n"
     ]
    },
    {
     "ename": "",
     "evalue": "",
     "output_type": "error",
     "traceback": [
      "\u001b[1;31mThe Kernel crashed while executing code in the current cell or a previous cell. \n",
      "\u001b[1;31mPlease review the code in the cell(s) to identify a possible cause of the failure. \n",
      "\u001b[1;31mClick <a href='https://aka.ms/vscodeJupyterKernelCrash'>here</a> for more info. \n",
      "\u001b[1;31mView Jupyter <a href='command:jupyter.viewOutput'>log</a> for further details."
     ]
    }
   ],
   "source": [
    "import gymnasium as gym \n",
    "import torch \n",
    "import torch.nn as nn\n",
    "env  = gym.make(\"CartPole-v1\", render_mode=\"human\")\n",
    "obs , info = env.reset(seed=42)\n",
    "obs = torch.tensor(obs) \n",
    "\n",
    "class Policy(nn.Module):\n",
    "    def __init__(self, *args, **kwargs):\n",
    "        super().__init__(*args, **kwargs)\n",
    "        self.core = nn.Sequential(\n",
    "            nn.Linear(4,128),\n",
    "            nn.ReLU(),\n",
    "            nn.Linear(128,128),\n",
    "            nn.ReLU(),\n",
    "            nn.Linear(128,2)\n",
    "            \n",
    "        )\n",
    "    def forward(self, x):\n",
    "        return self.core(x)\n",
    "    \n",
    "policy = Policy()\n",
    "\n",
    "episodes = 1000\n",
    "gamma = 0.99\n",
    "\n",
    "\n",
    "for episode in range(episodes):\n",
    "    obs , info = env.reset(seed=42)\n",
    "    obs = torch.tensor(obs)\n",
    "    done = False \n",
    "    observations = []\n",
    "    actions = []\n",
    "    rewards = []\n",
    "    \n",
    "    while not done :\n",
    "        logits = policy(obs)\n",
    "        probs = torch.softmax(logits , dim=-1)\n",
    "        action = torch.argmax(probs).item()\n",
    "        obs , reward , done , truncated , info = env.step (action)\n",
    "        obs = torch.tensor(obs)\n",
    "        observations.append(obs)\n",
    "        actions.append(action)\n",
    "        rewards.append(reward)\n",
    "        if done or truncated: \n",
    "            break \n",
    "    Gs = []\n",
    "    G = 0\n",
    "    for i in range(len(rewards) - 1 , -1 , -1):\n",
    "        G = rewards[i] + gamma * G\n",
    "        Gs.append(G)\n",
    "    Gs.reverse()\n",
    "    Gs = torch.tensor(Gs)\n",
    "    Gs = (Gs - Gs.mean()) / (Gs.std() + 1e-8)\n",
    "\n",
    "    loss = 0 \n",
    "    for obs, action , G in zip(observations , actions , Gs):\n",
    "        logits = policy(obs)\n",
    "        \n",
    "\n",
    "\n",
    "\n",
    "\n",
    "        "
   ]
  },
  {
   "cell_type": "code",
   "execution_count": null,
   "id": "ffff7383",
   "metadata": {},
   "outputs": [],
   "source": []
  }
 ],
 "metadata": {
  "kernelspec": {
   "display_name": "Python 3",
   "language": "python",
   "name": "python3"
  },
  "language_info": {
   "codemirror_mode": {
    "name": "ipython",
    "version": 3
   },
   "file_extension": ".py",
   "mimetype": "text/x-python",
   "name": "python",
   "nbconvert_exporter": "python",
   "pygments_lexer": "ipython3",
   "version": "3.11.7"
  }
 },
 "nbformat": 4,
 "nbformat_minor": 5
}
